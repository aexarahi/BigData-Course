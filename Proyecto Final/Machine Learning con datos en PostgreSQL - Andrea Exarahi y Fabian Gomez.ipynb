{
 "cells": [
  {
   "cell_type": "markdown",
   "metadata": {},
   "source": [
    "# Machine Learning con datos en PostgreSQL\n",
    "## Andrea Exarahí y Fabián Gómez"
   ]
  },
  {
   "cell_type": "markdown",
   "metadata": {},
   "source": [
    "# Insercion de datos a PostgreSQL"
   ]
  },
  {
   "cell_type": "markdown",
   "metadata": {},
   "source": [
    "#### Creacion de la tabla"
   ]
  },
  {
   "cell_type": "markdown",
   "metadata": {},
   "source": [
    "Por medio de este script de base de datos por medio de la terminal creamos la tabla \"projects\" que va a tener el set de datos elegido para este proyecto"
   ]
  },
  {
   "cell_type": "raw",
   "metadata": {},
   "source": [
    "CREATE TABLE projects (\n",
    "    ID int PRIMARY KEY,\n",
    "    name varchar(256),\n",
    "    category varchar(256), \n",
    "    main_category varchar (256),\n",
    "    currency varchar(50),\n",
    "    deadline date,\n",
    "    goal numeric (15,2),\n",
    "    launched timestamp,\n",
    "    pledged numeric (15,2),\n",
    "    state varchar(50),\n",
    "    backers int,\n",
    "    country varchar(50),\n",
    "    usd_pledged numeric (15,2),\n",
    "    usd_pledged_real numeric (15,2),\n",
    "    usd_goal_real numeric (15,2));"
   ]
  },
  {
   "cell_type": "markdown",
   "metadata": {},
   "source": [
    "Una vez creada la tabla por medio de este comando copiamos la data en la tabla"
   ]
  },
  {
   "cell_type": "code",
   "execution_count": 1,
   "metadata": {},
   "outputs": [
    {
     "ename": "SyntaxError",
     "evalue": "unexpected character after line continuation character (<ipython-input-1-ed1fd751cab7>, line 2)",
     "output_type": "error",
     "traceback": [
      "\u001b[0;36m  File \u001b[0;32m\"<ipython-input-1-ed1fd751cab7>\"\u001b[0;36m, line \u001b[0;32m2\u001b[0m\n\u001b[0;31m    \\copy projects from '/Users/caro/Documents/BigData/Proyecto/ks-projects.csv' csv header;\u001b[0m\n\u001b[0m                                                                                            ^\u001b[0m\n\u001b[0;31mSyntaxError\u001b[0m\u001b[0;31m:\u001b[0m unexpected character after line continuation character\n"
     ]
    }
   ],
   "source": [
    "#CSV does have headers, they need to match the columns with the table\n",
    "\\copy projects from '/Users/caro/Documents/BigData/Proyecto/ks-projects.csv' csv header;"
   ]
  },
  {
   "cell_type": "markdown",
   "metadata": {},
   "source": [
    "Set de datos escogido para este proyecto fue tomado de kaggle\n",
    "\n",
    "https://www.kaggle.com/kemical/kickstarter-projects#ks-projects-201801.csv\n",
    "\n",
    "Esta data contiene registros de mas de 300,000 proyectos de kickstarter, un sitio web de crowdfounding para proyectos creativos.Mediante Kickstarter se ha financiado una amplia gama de esfuerzos,que van desde películas independientes, música y cómics a periodismo, videojuegos y proyectos relacionados con la comida."
   ]
  },
  {
   "cell_type": "markdown",
   "metadata": {},
   "source": [
    "#### Problema\n",
    "\n",
    "Seleccionamos este set de datos ya que no gusta mucho esta plataforma de crowdfounding y en algunas ocaciones hemos participado en campañas para ayudar el proyecto o adquirir de los produtos innovadores que se encuentran en la plataforma.\n",
    "\n",
    "Tenemos curiosidad de conocer si se puede predecir cuales proyectos son exitosos y cuales no lo logran en la plataforma."
   ]
  },
  {
   "cell_type": "markdown",
   "metadata": {},
   "source": [
    "# Importacion de librerias y operaciones"
   ]
  },
  {
   "cell_type": "code",
   "execution_count": 4,
   "metadata": {},
   "outputs": [],
   "source": [
    "import findspark\n",
    "findspark.init('/opt/spark/spark')\n",
    "from pyspark.sql import SparkSession\n",
    "from pyspark.sql import functions as F\n",
    "from pyspark.sql import *\n",
    "from  pyspark.sql.functions import regexp_replace,col\n",
    "import re\n",
    "from pyspark.sql.types import StructField,IntegerType, StructType,StringType, DateType, decimal\n",
    "from pyspark.sql.functions import col, date_format, udf,quarter, lit, unix_timestamp\n",
    "from pyspark.ml.feature import OneHotEncoder, StringIndexer, VectorAssembler\n",
    "from pyspark.ml.regression import LinearRegression\n",
    "from datetime import datetime\n"
   ]
  },
  {
   "cell_type": "markdown",
   "metadata": {},
   "source": [
    "# Sesión de Spark"
   ]
  },
  {
   "cell_type": "markdown",
   "metadata": {},
   "source": [
    "Creamos la sesión de spark para trabajar con los datos en postgreSQL"
   ]
  },
  {
   "cell_type": "code",
   "execution_count": 5,
   "metadata": {},
   "outputs": [],
   "source": [
    "#Spark session\n",
    "spark = SparkSession \\\n",
    "    .builder \\\n",
    "    .appName(\"Final project\") \\\n",
    "    .config(\"spark.driver.extraClassPath\", \"/opt/postgresql-42.2.9.jar\") \\\n",
    "    .config(\"spark.executor.extraClassPath\", \"/opt/postgresql-42.2.9.jar\") \\\n",
    "    .getOrCreate()"
   ]
  },
  {
   "cell_type": "markdown",
   "metadata": {},
   "source": [
    "Leemos el dataframe en Spark"
   ]
  },
  {
   "cell_type": "code",
   "execution_count": 6,
   "metadata": {},
   "outputs": [
    {
     "data": {
      "text/plain": [
       "[Row(id=1000002330, name='The Songs of Adelaide & Abullah', category='Poetry', main_category='Publishing', currency='GBP', deadline='10/9/15', goal='1000', launched='8/11/15 12:12', pledged='0', state='failed', backers='0', country='GB', usd_pledged=Decimal('0.00'), usd_pledged_real=Decimal('0.00'), usd_goal_real=Decimal('1533.95')),\n",
       " Row(id=1000003930, name='Greeting From Earth: ZGAC Arts Capsule For ET', category='Narrative Film', main_category='Film & Video', currency='USD', deadline='11/1/17', goal='30000', launched='9/2/17 4:43', pledged='2421', state='failed', backers='15', country='US', usd_pledged=Decimal('100.00'), usd_pledged_real=Decimal('2421.00'), usd_goal_real=Decimal('30000.00'))]"
      ]
     },
     "execution_count": 6,
     "metadata": {},
     "output_type": "execute_result"
    }
   ],
   "source": [
    "# Reading single DataFrame in Spark by retrieving all rows from a DB table.\n",
    "df = spark \\\n",
    "    .read \\\n",
    "    .format(\"jdbc\") \\\n",
    "    .option(\"url\", \"jdbc:postgresql://localhost/ks_projects\") \\\n",
    "    .option(\"user\", \"caro\") \\\n",
    "    .option(\"password\", \"Caro2017\") \\\n",
    "    .option(\"driver\", \"org.postgresql.Driver\") \\\n",
    "    .option(\"dbtable\", \"projects\") \\\n",
    "    .load()\n",
    "\n",
    "df.head(2)"
   ]
  },
  {
   "cell_type": "markdown",
   "metadata": {},
   "source": [
    "# Limpieza de los datos"
   ]
  },
  {
   "cell_type": "markdown",
   "metadata": {},
   "source": [
    "Primero veamos el schema de los datos."
   ]
  },
  {
   "cell_type": "code",
   "execution_count": 7,
   "metadata": {},
   "outputs": [
    {
     "name": "stdout",
     "output_type": "stream",
     "text": [
      "root\n",
      " |-- id: integer (nullable = true)\n",
      " |-- name: string (nullable = true)\n",
      " |-- category: string (nullable = true)\n",
      " |-- main_category: string (nullable = true)\n",
      " |-- currency: string (nullable = true)\n",
      " |-- deadline: string (nullable = true)\n",
      " |-- goal: string (nullable = true)\n",
      " |-- launched: string (nullable = true)\n",
      " |-- pledged: string (nullable = true)\n",
      " |-- state: string (nullable = true)\n",
      " |-- backers: string (nullable = true)\n",
      " |-- country: string (nullable = true)\n",
      " |-- usd_pledged: decimal(38,2) (nullable = true)\n",
      " |-- usd_pledged_real: decimal(38,2) (nullable = true)\n",
      " |-- usd_goal_real: decimal(38,2) (nullable = true)\n",
      "\n"
     ]
    }
   ],
   "source": [
    "df.printSchema()"
   ]
  },
  {
   "cell_type": "markdown",
   "metadata": {},
   "source": [
    "|     Columna   | Descripcion  |\n",
    "| ------------- |:-------------:|\n",
    "| id     | internal kickstarter id|\n",
    "|name    | name of project - A project is a finite work with a clear goal that you’d like to bring to life. Think albums, books, or films.|\n",
    "|category| category   |\n",
    "|main_category| category of campaign|\n",
    "|currency| currency used to support    |\n",
    "|deadline| deadline for crowdfunding |\n",
    "|goal| fundraising goal - The funding goal is the amount of money that a creator needs to complete their project. |\n",
    "|launched | date launched|\n",
    "|pledged| amount pledged by \"crowd\"      |\n",
    "|state|Current condition the project is in| \n",
    "|backers|number of backers|\n",
    "|country |country pledged from|\n",
    "|usd_pledged| Pledged amount in USD |\n",
    "|usd_pledged_real     | Pledged amount in USD (conversion made by fixer.io api|\n",
    "|usd_goal_real  |Goal amount in USD|"
   ]
  },
  {
   "cell_type": "markdown",
   "metadata": {},
   "source": [
    "Conociendo la data vamos a empezar con la limpieza y escogencia de variables a estudiar\n",
    "\n",
    "Empezaremos con la cantidad de categorias:"
   ]
  },
  {
   "cell_type": "code",
   "execution_count": 8,
   "metadata": {},
   "outputs": [
    {
     "data": {
      "text/plain": [
       "159"
      ]
     },
     "execution_count": 8,
     "metadata": {},
     "output_type": "execute_result"
    }
   ],
   "source": [
    "df.select(F.col('category')).distinct().count()"
   ]
  },
  {
   "cell_type": "markdown",
   "metadata": {},
   "source": [
    "Existe 159 diferentes categorias, por lo cual tal vez descartemos esta columna como hiperparametro, ya que tambien existe una columna que contiene la categoria principal."
   ]
  },
  {
   "cell_type": "markdown",
   "metadata": {},
   "source": [
    "Categorias principales:"
   ]
  },
  {
   "cell_type": "code",
   "execution_count": 9,
   "metadata": {},
   "outputs": [
    {
     "name": "stdout",
     "output_type": "stream",
     "text": [
      "+-------------+\n",
      "|main_category|\n",
      "+-------------+\n",
      "|         Food|\n",
      "|          Art|\n",
      "|      Fashion|\n",
      "| Film & Video|\n",
      "|   Publishing|\n",
      "|       Crafts|\n",
      "|       Comics|\n",
      "|        Games|\n",
      "|        Music|\n",
      "|       Design|\n",
      "|  Photography|\n",
      "|   Technology|\n",
      "|   Journalism|\n",
      "|      Theater|\n",
      "|        Dance|\n",
      "+-------------+\n",
      "\n"
     ]
    }
   ],
   "source": [
    "df.select(F.col('main_category')).distinct().show()"
   ]
  },
  {
   "cell_type": "markdown",
   "metadata": {},
   "source": [
    "Existen 15 distintas categorias principales para los proyectos."
   ]
  },
  {
   "cell_type": "markdown",
   "metadata": {},
   "source": [
    "Ya que este puede ser un parametro significativo para estudio, vamos a limpiar la columna sustituyendo los strings por ids numericos de la siguiente manera:"
   ]
  },
  {
   "cell_type": "markdown",
   "metadata": {},
   "source": [
    "|     ID   | Categoria  |\n",
    "| ------------- |:-------------:|\n",
    "| 1| Art|\n",
    "| 2| Fashion|\n",
    "| 3| Film & Video|\n",
    "| 4| Publishing|\n",
    "| 5| Crafts|\n",
    "| 6| Comics|\n",
    "| 7| Games|\n",
    "| 8| Music|\n",
    "| 9| Design|\n",
    "|10| Photography| \n",
    "|11| Technology|\n",
    "|12| Journalism|\n",
    "|13| Theater|\n",
    "|14| Dance|\n",
    "|15| Food|"
   ]
  },
  {
   "cell_type": "markdown",
   "metadata": {},
   "source": [
    "Por medio de regexp_replace remplazamos los nombres de las categorias por los IDs"
   ]
  },
  {
   "cell_type": "code",
   "execution_count": 10,
   "metadata": {},
   "outputs": [],
   "source": [
    "df = df.withColumn('main_category', regexp_replace('main_category', 'Art', '1'))\n",
    "df = df.withColumn('main_category', regexp_replace('main_category', 'Fashion', '2'))\n",
    "df = df.withColumn('main_category', regexp_replace('main_category', 'Film & Video', '3'))\n",
    "df = df.withColumn('main_category', regexp_replace('main_category', 'Publishing','4'))\n",
    "df = df.withColumn('main_category', regexp_replace('main_category', 'Crafts','5'))\n",
    "df = df.withColumn('main_category', regexp_replace('main_category', 'Comics','6'))\n",
    "df = df.withColumn('main_category', regexp_replace('main_category', 'Games','7'))\n",
    "df = df.withColumn('main_category', regexp_replace('main_category', 'Music','8'))\n",
    "df = df.withColumn('main_category', regexp_replace('main_category', 'Design','9'))\n",
    "df = df.withColumn('main_category', regexp_replace('main_category', 'Photography','10'))\n",
    "df = df.withColumn('main_category', regexp_replace('main_category', 'Technology','11'))\n",
    "df = df.withColumn('main_category', regexp_replace('main_category', 'Journalism','12'))\n",
    "df = df.withColumn('main_category', regexp_replace('main_category', 'Theater','13'))\n",
    "df = df.withColumn('main_category', regexp_replace('main_category', 'Dance','14'))\n",
    "df = df.withColumn('main_category', regexp_replace('main_category', 'Food','15'))"
   ]
  },
  {
   "cell_type": "markdown",
   "metadata": {},
   "source": [
    "Visualizamos el cambio en la columna"
   ]
  },
  {
   "cell_type": "code",
   "execution_count": 11,
   "metadata": {},
   "outputs": [
    {
     "name": "stdout",
     "output_type": "stream",
     "text": [
      "+-------------+\n",
      "|main_category|\n",
      "+-------------+\n",
      "|            7|\n",
      "|           15|\n",
      "|           11|\n",
      "|            3|\n",
      "|            8|\n",
      "|            5|\n",
      "|            6|\n",
      "|            9|\n",
      "|            1|\n",
      "|           10|\n",
      "|            4|\n",
      "|           12|\n",
      "|           13|\n",
      "|           14|\n",
      "|            2|\n",
      "+-------------+\n",
      "\n"
     ]
    }
   ],
   "source": [
    "df.select(F.col('main_category')).distinct().show()"
   ]
  },
  {
   "cell_type": "markdown",
   "metadata": {},
   "source": [
    "Vamos a hacer el mismo proceso para el estado de los proyectos, vayamos a ultilazar esta columna como el Y, ya que el proyecto se va a enfocar en la prediccion de proyectos que terminan success en kickstarted"
   ]
  },
  {
   "cell_type": "code",
   "execution_count": 12,
   "metadata": {},
   "outputs": [
    {
     "name": "stdout",
     "output_type": "stream",
     "text": [
      "+----------+\n",
      "|     state|\n",
      "+----------+\n",
      "| suspended|\n",
      "|    failed|\n",
      "|  canceled|\n",
      "|successful|\n",
      "|      live|\n",
      "| undefined|\n",
      "+----------+\n",
      "\n"
     ]
    }
   ],
   "source": [
    "df.select(F.col('state')).distinct().show(20)"
   ]
  },
  {
   "cell_type": "markdown",
   "metadata": {},
   "source": [
    "Podemos visualizar 6 diferentes estados de los proyectos, de estos vamos a tomar cuatro para estudio.\n",
    "\n",
    "suspended, failed, y canceled van a tener un ID 0 como proyectos que no fueron exitosos y successful tendra un ID 1 de que ha sido un proyecto exitoso."
   ]
  },
  {
   "cell_type": "code",
   "execution_count": 13,
   "metadata": {},
   "outputs": [],
   "source": [
    "df = df.withColumn('state', regexp_replace('state', 'successful', '1'))\n",
    "df = df.withColumn('state', regexp_replace('state', 'failed', '0'))\n",
    "df = df.withColumn('state', regexp_replace('state', 'canceled', '0'))\n",
    "df = df.withColumn('state', regexp_replace('state', 'suspended', '0'))"
   ]
  },
  {
   "cell_type": "markdown",
   "metadata": {},
   "source": [
    "En el caso de live y undefined, lo vamos a rellenar con nulls, ya que no sabemos si realmente fueron exitosos o no."
   ]
  },
  {
   "cell_type": "markdown",
   "metadata": {},
   "source": [
    "La idea es que los estados de los proyectos queden de la siguiente manera:"
   ]
  },
  {
   "cell_type": "markdown",
   "metadata": {},
   "source": [
    "|     state   | ID  |\n",
    "| ------------- |:-------------:|\n",
    "| successful| 1|\n",
    "| failed| 0|\n",
    "| canceled| 0|\n",
    "| suspended| 0|\n",
    "| undefined| no aplica/null|\n",
    "| live| no aplica/null|"
   ]
  },
  {
   "cell_type": "code",
   "execution_count": 14,
   "metadata": {},
   "outputs": [],
   "source": [
    " df =  df.withColumn(\"state\",F.when(col(\"state\").isin('undefined', 'live'),None).otherwise(col(\"state\")))"
   ]
  },
  {
   "cell_type": "markdown",
   "metadata": {},
   "source": [
    "Ahora vamos a visualizar los diferentes estados y la cantidad de estos en el set de datos"
   ]
  },
  {
   "cell_type": "code",
   "execution_count": 15,
   "metadata": {},
   "outputs": [
    {
     "name": "stdout",
     "output_type": "stream",
     "text": [
      "+-----+------+\n",
      "|state| count|\n",
      "+-----+------+\n",
      "|    0|238344|\n",
      "| null|  6361|\n",
      "|    1|133956|\n",
      "+-----+------+\n",
      "\n"
     ]
    }
   ],
   "source": [
    "df.groupBy('state').count().show(23)"
   ]
  },
  {
   "cell_type": "markdown",
   "metadata": {},
   "source": [
    "Vamos a visualizar la cantidad de distinatas monedas en las que se realizaron los proyectos:"
   ]
  },
  {
   "cell_type": "code",
   "execution_count": 16,
   "metadata": {},
   "outputs": [
    {
     "name": "stdout",
     "output_type": "stream",
     "text": [
      "+--------+\n",
      "|currency|\n",
      "+--------+\n",
      "|     DKK|\n",
      "|     NZD|\n",
      "|     GBP|\n",
      "|     CHF|\n",
      "|     CAD|\n",
      "|     EUR|\n",
      "|     NOK|\n",
      "|     AUD|\n",
      "|     JPY|\n",
      "|     HKD|\n",
      "|     MXN|\n",
      "|     USD|\n",
      "|     SEK|\n",
      "|     SGD|\n",
      "+--------+\n",
      "\n"
     ]
    }
   ],
   "source": [
    "df.select(F.col('currency')).distinct().show(20)"
   ]
  },
  {
   "cell_type": "markdown",
   "metadata": {},
   "source": [
    "Currency, es un campo que no tomaremos como hiperparamento debido a que la mayoria de los montos se encuentran en los datos USD y ademas contamos con otro parametro \"country\" o pais el cual puede ser mas significativo demograficamente."
   ]
  },
  {
   "cell_type": "markdown",
   "metadata": {},
   "source": [
    "Primero vamos a visualizar los distintos paises y la cantidad de proyectos asociados a cada uno"
   ]
  },
  {
   "cell_type": "code",
   "execution_count": 17,
   "metadata": {},
   "outputs": [
    {
     "name": "stdout",
     "output_type": "stream",
     "text": [
      "+-------+------+\n",
      "|country| count|\n",
      "+-------+------+\n",
      "|     NL|  2868|\n",
      "|     MX|  1752|\n",
      "|     AT|   597|\n",
      "|     HK|   618|\n",
      "|     AU|  7839|\n",
      "|     CA| 14756|\n",
      "|     GB| 33672|\n",
      "|     DE|  4171|\n",
      "|     ES|  2276|\n",
      "|     US|292627|\n",
      "|     FR|  2939|\n",
      "|     CH|   761|\n",
      "|     SG|   555|\n",
      "|     IT|  2878|\n",
      "|     SE|  1757|\n",
      "|   N,0\"|  3797|\n",
      "|     JP|    40|\n",
      "|     NZ|  1447|\n",
      "|     IE|   811|\n",
      "|     BE|   617|\n",
      "|     NO|   708|\n",
      "|     LU|    62|\n",
      "|     DK|  1113|\n",
      "+-------+------+\n",
      "\n"
     ]
    }
   ],
   "source": [
    "df.groupBy('country').count().show(25)"
   ]
  },
  {
   "cell_type": "markdown",
   "metadata": {},
   "source": [
    "Tal como se pudo visualizar hay algunos proyectos que no tienen un pais asociado, estos tienen una abreviacion 'N,0\"', estos los vamos a sustituir con un null debido a que no es una cantidad significativa de valores."
   ]
  },
  {
   "cell_type": "markdown",
   "metadata": {},
   "source": [
    "#Contries\n",
    "\n",
    "|ID|Abreviacion|Pais|\n",
    "|-----|:-------:|-----------\n",
    "|1|   NL|NETHERLANDS\n",
    "|2|   MX|MEXICO\n",
    "|3|   AT|AUSTRIA\n",
    "|4|   HK|HONG KONG\n",
    "|5|   AU|AUSTRALIA\n",
    "|6|   CA|CANADA\n",
    "|7|   GB|UNITED KINGDOM\n",
    "|8|   DE|GERMANY\n",
    "|9|   ES|SPAIN\n",
    "|10|  US|UNITED STATES\n",
    "|11|  FR|FRANCE\n",
    "|12|  CH|SWITZERLAND\n",
    "|13|  IT|ITALY\n",
    "|14|  SE|SWEDEN\n",
    "|null|N,0\"|NO COUNTRY\n",
    "|15|  JP|JAPAN\n",
    "|16|  NZ|NEW ZEALAND\n",
    "|17|  IE|IRELAND\n",
    "|18|  BE|BELGIUM\n",
    "|19|  NO|NORWAY\n",
    "|20|  LU|LUXEMBOURG\n",
    "|22|  DK|DENMARK\n",
    "|23|  SG|SINGAPORE\n"
   ]
  },
  {
   "cell_type": "code",
   "execution_count": 18,
   "metadata": {},
   "outputs": [],
   "source": [
    "df = df.withColumn('country', regexp_replace('country', 'NL', '1'))\n",
    "df = df.withColumn('country', regexp_replace('country', 'MX', '2'))\n",
    "df = df.withColumn('country', regexp_replace('country', 'AT', '3'))\n",
    "df = df.withColumn('country', regexp_replace('country', 'HK', '4'))\n",
    "df = df.withColumn('country', regexp_replace('country', 'AU', '5'))\n",
    "df = df.withColumn('country', regexp_replace('country', 'CA', '6'))\n",
    "df = df.withColumn('country', regexp_replace('country', 'GB', '7'))\n",
    "df = df.withColumn('country', regexp_replace('country', 'DE', '8'))\n",
    "df = df.withColumn('country', regexp_replace('country', 'ES', '9'))\n",
    "df = df.withColumn('country', regexp_replace('country', 'US', '10'))\n",
    "df = df.withColumn('country', regexp_replace('country', 'FR', '11'))\n",
    "df = df.withColumn('country', regexp_replace('country', 'CH', '12'))\n",
    "df = df.withColumn('country', regexp_replace('country', 'IT', '13'))\n",
    "df = df.withColumn('country', regexp_replace('country', 'SE', '14'))\n",
    "df = df.withColumn('country', regexp_replace('country', 'JP', '15'))\n",
    "df = df.withColumn('country', regexp_replace('country', 'NZ', '16'))\n",
    "df = df.withColumn('country', regexp_replace('country', 'IE', '17'))\n",
    "df = df.withColumn('country', regexp_replace('country', 'BE', '18'))\n",
    "df = df.withColumn('country', regexp_replace('country', 'NO', '19'))\n",
    "df = df.withColumn('country', regexp_replace('country', 'LU', '20'))\n",
    "df = df.withColumn('country', regexp_replace('country', 'DK', '21'))\n",
    "df = df.withColumn('country', regexp_replace('country', 'SG', '22'))"
   ]
  },
  {
   "cell_type": "code",
   "execution_count": 19,
   "metadata": {},
   "outputs": [],
   "source": [
    "df =  df.withColumn(\"country\",F.when(col(\"country\").isin('N,0\"'),None).otherwise(col(\"country\")))"
   ]
  },
  {
   "cell_type": "markdown",
   "metadata": {},
   "source": [
    "Visualizamos el cambio en la columna"
   ]
  },
  {
   "cell_type": "code",
   "execution_count": 20,
   "metadata": {},
   "outputs": [
    {
     "name": "stdout",
     "output_type": "stream",
     "text": [
      "+-------+------+\n",
      "|country| count|\n",
      "+-------+------+\n",
      "|      7| 33672|\n",
      "|     15|    40|\n",
      "|     11|  2939|\n",
      "|      3|   597|\n",
      "|      8|  4171|\n",
      "|     22|   555|\n",
      "|     16|  1447|\n",
      "|   null|  3797|\n",
      "|      5|  7839|\n",
      "|     18|   617|\n",
      "|     17|   811|\n",
      "|      6| 14756|\n",
      "|     19|   708|\n",
      "|      9|  2276|\n",
      "|      1|  2868|\n",
      "|     20|    62|\n",
      "|     10|292627|\n",
      "|      4|   618|\n",
      "|     12|   761|\n",
      "|     13|  2878|\n",
      "|     14|  1757|\n",
      "|     21|  1113|\n",
      "|      2|  1752|\n",
      "+-------+------+\n",
      "\n"
     ]
    }
   ],
   "source": [
    "df.groupBy('country').count().show(23)"
   ]
  },
  {
   "cell_type": "markdown",
   "metadata": {},
   "source": [
    "Ahora vamos a eliminar las columnas 'name', 'category','currency' ya que decidimos que no van a ser relevantes para nuestro problema"
   ]
  },
  {
   "cell_type": "code",
   "execution_count": 21,
   "metadata": {},
   "outputs": [],
   "source": [
    "columns_to_drop = ['name', 'category','currency']\n",
    "df = df.drop(*columns_to_drop)"
   ]
  },
  {
   "cell_type": "markdown",
   "metadata": {},
   "source": [
    "Visualizamos las columnas que vamos a utilizar"
   ]
  },
  {
   "cell_type": "code",
   "execution_count": 22,
   "metadata": {},
   "outputs": [
    {
     "data": {
      "text/plain": [
       "[Row(id=1000002330, main_category='4', deadline='10/9/15', goal='1000', launched='8/11/15 12:12', pledged='0', state='0', backers='0', country='7', usd_pledged=Decimal('0.00'), usd_pledged_real=Decimal('0.00'), usd_goal_real=Decimal('1533.95'))]"
      ]
     },
     "execution_count": 22,
     "metadata": {},
     "output_type": "execute_result"
    }
   ],
   "source": [
    "df.head(1)"
   ]
  },
  {
   "cell_type": "markdown",
   "metadata": {},
   "source": [
    "Ahora vamos a comvertir los campos que contienen fechas en datetimes."
   ]
  },
  {
   "cell_type": "code",
   "execution_count": 23,
   "metadata": {},
   "outputs": [],
   "source": [
    "string_to_date = \\\n",
    "    udf(lambda text_date: datetime.strptime(text_date, '%m/%d/%y %H:%M'),\n",
    "        DateType())\n",
    "\n",
    "string_to_date_deadLine = \\\n",
    "    udf(lambda text_date: datetime.strptime(text_date, '%m/%d/%y'),\n",
    "        DateType())\n",
    "\n",
    "\n",
    "df2 = df.withColumn(\"dateLaunched\", string_to_date(df.launched))\n",
    "df3 = df2.withColumn(\"dateDeadLine\", string_to_date_deadLine(df2.deadline))\n"
   ]
  },
  {
   "cell_type": "markdown",
   "metadata": {},
   "source": [
    "Visualizamos el resultado:"
   ]
  },
  {
   "cell_type": "code",
   "execution_count": 24,
   "metadata": {},
   "outputs": [
    {
     "data": {
      "text/plain": [
       "[Row(id=1000002330, main_category='4', deadline='10/9/15', goal='1000', launched='8/11/15 12:12', pledged='0', state='0', backers='0', country='7', usd_pledged=Decimal('0.00'), usd_pledged_real=Decimal('0.00'), usd_goal_real=Decimal('1533.95'), dateLaunched=datetime.date(2015, 8, 11), dateDeadLine=datetime.date(2015, 10, 9))]"
      ]
     },
     "execution_count": 24,
     "metadata": {},
     "output_type": "execute_result"
    }
   ],
   "source": [
    "df3.head(1)"
   ]
  },
  {
   "cell_type": "markdown",
   "metadata": {},
   "source": [
    "Vamos a agregar otra columna derivada de la fecha en que inicio el proyecto, la columna la vamos a llamar \"quarter\" y va a tener el cuatrimestre en el que se lanzo el proyecto"
   ]
  },
  {
   "cell_type": "code",
   "execution_count": 25,
   "metadata": {},
   "outputs": [],
   "source": [
    "df4 = df3.withColumn(\"quarter\", quarter(df3.dateLaunched))"
   ]
  },
  {
   "cell_type": "markdown",
   "metadata": {},
   "source": [
    "Visualizamos el resultado"
   ]
  },
  {
   "cell_type": "code",
   "execution_count": 26,
   "metadata": {},
   "outputs": [
    {
     "data": {
      "text/plain": [
       "[Row(id=1000002330, main_category='4', deadline='10/9/15', goal='1000', launched='8/11/15 12:12', pledged='0', state='0', backers='0', country='7', usd_pledged=Decimal('0.00'), usd_pledged_real=Decimal('0.00'), usd_goal_real=Decimal('1533.95'), dateLaunched=datetime.date(2015, 8, 11), dateDeadLine=datetime.date(2015, 10, 9), quarter=3)]"
      ]
     },
     "execution_count": 26,
     "metadata": {},
     "output_type": "execute_result"
    }
   ],
   "source": [
    "df4.head(1)"
   ]
  },
  {
   "cell_type": "markdown",
   "metadata": {},
   "source": [
    "Vamos a borrar las columnas que no estan estandarizadas"
   ]
  },
  {
   "cell_type": "code",
   "execution_count": 27,
   "metadata": {},
   "outputs": [],
   "source": [
    "#borrar columnas\n",
    "columns_to_drop = ['deadline', 'launched']\n",
    "df4 = df4.drop(*columns_to_drop)"
   ]
  },
  {
   "cell_type": "markdown",
   "metadata": {},
   "source": [
    "Resultado:"
   ]
  },
  {
   "cell_type": "code",
   "execution_count": 28,
   "metadata": {},
   "outputs": [
    {
     "data": {
      "text/plain": [
       "[Row(id=1000002330, main_category='4', goal='1000', pledged='0', state='0', backers='0', country='7', usd_pledged=Decimal('0.00'), usd_pledged_real=Decimal('0.00'), usd_goal_real=Decimal('1533.95'), dateLaunched=datetime.date(2015, 8, 11), dateDeadLine=datetime.date(2015, 10, 9), quarter=3)]"
      ]
     },
     "execution_count": 28,
     "metadata": {},
     "output_type": "execute_result"
    }
   ],
   "source": [
    "df4.head(1)"
   ]
  },
  {
   "cell_type": "markdown",
   "metadata": {},
   "source": [
    "Ahora vamos a hacer un conteo de la data que tenemos actualimente, incluyendo nulls"
   ]
  },
  {
   "cell_type": "code",
   "execution_count": 29,
   "metadata": {},
   "outputs": [
    {
     "data": {
      "text/plain": [
       "378661"
      ]
     },
     "execution_count": 29,
     "metadata": {},
     "output_type": "execute_result"
    }
   ],
   "source": [
    "df4.count()"
   ]
  },
  {
   "cell_type": "markdown",
   "metadata": {},
   "source": [
    "Vamos a quitar esos nulls"
   ]
  },
  {
   "cell_type": "code",
   "execution_count": 30,
   "metadata": {},
   "outputs": [
    {
     "data": {
      "text/plain": [
       "372066"
      ]
     },
     "execution_count": 30,
     "metadata": {},
     "output_type": "execute_result"
    }
   ],
   "source": [
    "#eliminar NaN\n",
    "df4 = df4.dropna()\n",
    "df4.count()"
   ]
  },
  {
   "cell_type": "markdown",
   "metadata": {},
   "source": [
    "# Exploracion de los datos"
   ]
  },
  {
   "cell_type": "markdown",
   "metadata": {},
   "source": [
    "Para este estudio vamos a primero algunos counts para ver datos significativos"
   ]
  },
  {
   "cell_type": "markdown",
   "metadata": {},
   "source": [
    "#### Proyectos exitosos por pais"
   ]
  },
  {
   "cell_type": "code",
   "execution_count": 31,
   "metadata": {},
   "outputs": [
    {
     "name": "stdout",
     "output_type": "stream",
     "text": [
      "+-------+------+\n",
      "|country| count|\n",
      "+-------+------+\n",
      "|     10|109299|\n",
      "|      7| 12067|\n",
      "|      6|  4134|\n",
      "|      5|  2010|\n",
      "|      8|   937|\n",
      "|     11|   908|\n",
      "|      1|   617|\n",
      "|     14|   509|\n",
      "|      9|   492|\n",
      "|     16|   448|\n",
      "|     13|   439|\n",
      "|      2|   396|\n",
      "|     21|   360|\n",
      "|      4|   216|\n",
      "|     17|   207|\n",
      "|     12|   187|\n",
      "|     22|   178|\n",
      "|     19|   162|\n",
      "|     18|   152|\n",
      "|      3|   107|\n",
      "|     20|    19|\n",
      "|     15|     7|\n",
      "+-------+------+\n",
      "\n"
     ]
    }
   ],
   "source": [
    "df4.where(df4['state'] == '1').groupBy(\"country\").count().sort(\"count\", ascending=False).show(25)"
   ]
  },
  {
   "cell_type": "markdown",
   "metadata": {},
   "source": [
    "Tal como podemos visualizar el país con más proyectos exitosos es Estados Unidos, con más de cienmil proyectos, seguido por Reino Unido. Por último, se encuentra Japon con solo 7 proyectos exitosos"
   ]
  },
  {
   "cell_type": "markdown",
   "metadata": {},
   "source": [
    "#### Paises con más proyectos fallidos en kickstarted:"
   ]
  },
  {
   "cell_type": "code",
   "execution_count": 32,
   "metadata": {},
   "outputs": [
    {
     "name": "stdout",
     "output_type": "stream",
     "text": [
      "+-------+------+\n",
      "|country| count|\n",
      "+-------+------+\n",
      "|     10|181588|\n",
      "|      7| 21326|\n",
      "|      6| 10490|\n",
      "|      5|  5759|\n",
      "|      8|  3159|\n",
      "|     13|  2363|\n",
      "|      1|  2216|\n",
      "|     11|  1979|\n",
      "|      9|  1732|\n",
      "|      2|  1249|\n",
      "|     14|  1228|\n",
      "|     16|   988|\n",
      "|     21|   737|\n",
      "|     17|   593|\n",
      "|     12|   560|\n",
      "|     19|   538|\n",
      "|      3|   475|\n",
      "|     18|   453|\n",
      "|      4|   367|\n",
      "|     22|   349|\n",
      "|     20|    42|\n",
      "|     15|    24|\n",
      "+-------+------+\n",
      "\n"
     ]
    }
   ],
   "source": [
    "df4.where(df4['state'] == '0').groupBy(\"country\").count().sort(\"count\", ascending=False).show(25)"
   ]
  },
  {
   "cell_type": "markdown",
   "metadata": {},
   "source": [
    "Tal como podemos visualizar el país con más proyectos fallidos es Estados Unidos, con más de ciento ochentamil proyectos, seguido por Reino Unido. Por último, se encuentra Japon con solo 24 proyectos exitosos.\n",
    "\n",
    "De acuerdo a estos datos podriamos asumir que esto se debe a la proporcion de proyectos por pais, mas que por el pais realmente.\n",
    "\n",
    "Entonces visualicemos la cantidad de proyectos por pais, para comprobar esta hipotesis."
   ]
  },
  {
   "cell_type": "code",
   "execution_count": 33,
   "metadata": {},
   "outputs": [
    {
     "name": "stdout",
     "output_type": "stream",
     "text": [
      "+-------+------+\n",
      "|country| count|\n",
      "+-------+------+\n",
      "|     10|290887|\n",
      "|      7| 33393|\n",
      "|      6| 14624|\n",
      "|      5|  7769|\n",
      "|      8|  4096|\n",
      "|     11|  2887|\n",
      "|      1|  2833|\n",
      "|     13|  2802|\n",
      "|      9|  2224|\n",
      "|     14|  1737|\n",
      "|      2|  1645|\n",
      "|     16|  1436|\n",
      "|     21|  1097|\n",
      "|     17|   800|\n",
      "|     12|   747|\n",
      "|     19|   700|\n",
      "|     18|   605|\n",
      "|      4|   583|\n",
      "|      3|   582|\n",
      "|     22|   527|\n",
      "|     20|    61|\n",
      "|     15|    31|\n",
      "+-------+------+\n",
      "\n"
     ]
    }
   ],
   "source": [
    "df4.groupBy('country').count().sort(\"count\", ascending=False).show(25)"
   ]
  },
  {
   "cell_type": "markdown",
   "metadata": {},
   "source": [
    "A simple vista no se ve un patron entre las proporciones de proyectos exitosos y fallidos por pais, pero si se ve que la cantidad va relacionada a la cantidad de proyectos por pais"
   ]
  },
  {
   "cell_type": "markdown",
   "metadata": {},
   "source": [
    "#### Proyectos exitosos por quarter"
   ]
  },
  {
   "cell_type": "code",
   "execution_count": 34,
   "metadata": {},
   "outputs": [
    {
     "name": "stdout",
     "output_type": "stream",
     "text": [
      "+-------+-----+\n",
      "|quarter|count|\n",
      "+-------+-----+\n",
      "|      2|35862|\n",
      "|      3|33732|\n",
      "|      1|33295|\n",
      "|      4|30962|\n",
      "+-------+-----+\n",
      "\n"
     ]
    }
   ],
   "source": [
    "df4.where(df4['state'] == '1').groupBy(\"quarter\").count().sort(\"count\", ascending=False).show(25)"
   ]
  },
  {
   "cell_type": "markdown",
   "metadata": {},
   "source": [
    "Podemos visualizar que no hay mucha relevancia en la fecha en que inician los proyectos ya que aunque hay diferencias entre los quarters en que se lanzan los proyectos, esta no es tan significativa."
   ]
  },
  {
   "cell_type": "markdown",
   "metadata": {},
   "source": [
    "#### Proyectos exitosos por categoria"
   ]
  },
  {
   "cell_type": "code",
   "execution_count": 35,
   "metadata": {},
   "outputs": [
    {
     "name": "stdout",
     "output_type": "stream",
     "text": [
      "+-------------+-----+\n",
      "|main_category|count|\n",
      "+-------------+-----+\n",
      "|            8|24105|\n",
      "|            3|23612|\n",
      "|            7|12518|\n",
      "|            4|12300|\n",
      "|            1|11510|\n",
      "|            9|10549|\n",
      "|           13| 6534|\n",
      "|           11| 6433|\n",
      "|           15| 6085|\n",
      "|            6| 5842|\n",
      "|            2| 5593|\n",
      "|           10| 3305|\n",
      "|           14| 2338|\n",
      "|            5| 2115|\n",
      "|           12| 1012|\n",
      "+-------------+-----+\n",
      "\n"
     ]
    }
   ],
   "source": [
    "df4.where(df4['state'] == '1').groupBy(\"main_category\").count().sort(\"count\", ascending=False).show(25)"
   ]
  },
  {
   "cell_type": "markdown",
   "metadata": {},
   "source": [
    "Las categorias más exitosas son:\n",
    "\n",
    "- Music\n",
    "- Film & Video\n",
    "- Games\n",
    "- Publishing\n",
    "- Art\n",
    "- Desing"
   ]
  },
  {
   "cell_type": "code",
   "execution_count": 36,
   "metadata": {},
   "outputs": [
    {
     "name": "stdout",
     "output_type": "stream",
     "text": [
      "+-------------+-----+\n",
      "|main_category|count|\n",
      "+-------------+-----+\n",
      "|            3|62365|\n",
      "|            8|49249|\n",
      "|            4|39080|\n",
      "|            7|34939|\n",
      "|           11|32185|\n",
      "|            9|29762|\n",
      "|            1|27959|\n",
      "|           15|24416|\n",
      "|            2|22562|\n",
      "|           13|10871|\n",
      "|            6|10743|\n",
      "|           10|10730|\n",
      "|            5| 8733|\n",
      "|           12| 4723|\n",
      "|           14| 3749|\n",
      "+-------------+-----+\n",
      "\n"
     ]
    }
   ],
   "source": [
    "df4.groupBy('main_category').count().sort(\"count\", ascending=False).show(25)"
   ]
  },
  {
   "cell_type": "markdown",
   "metadata": {},
   "source": [
    "Al ver la totalidad de proyectos por categoria, si se puede asumir que hay categorias más exitosas que otras no directamente relacionado a la cantidad de proyectos, ya que por ejemplo \"Technology\" se encuentra en el top 5 de categorias con mas proyectos, pero en cuanto a proyectos exitosos este se encuentra el noveno lugar."
   ]
  },
  {
   "cell_type": "markdown",
   "metadata": {},
   "source": [
    "#### Proyectos exitosos de acuerdo a la cantidad que el proyecto fijo como meta \"usd_goal_real\""
   ]
  },
  {
   "cell_type": "code",
   "execution_count": 113,
   "metadata": {},
   "outputs": [
    {
     "name": "stdout",
     "output_type": "stream",
     "text": [
      "+-------------+-----+\n",
      "|usd_goal_real|count|\n",
      "+-------------+-----+\n",
      "|      5000.00| 8352|\n",
      "|     10000.00| 6566|\n",
      "|      1000.00| 5854|\n",
      "|      3000.00| 5537|\n",
      "|      2000.00| 5304|\n",
      "|      2500.00| 4299|\n",
      "|       500.00| 4205|\n",
      "|      1500.00| 3809|\n",
      "|     15000.00| 3750|\n",
      "|      4000.00| 3107|\n",
      "|     20000.00| 2893|\n",
      "|      3500.00| 2534|\n",
      "|      6000.00| 2484|\n",
      "|     25000.00| 2092|\n",
      "|      8000.00| 2057|\n",
      "|      7500.00| 1630|\n",
      "|     12000.00| 1566|\n",
      "|      7000.00| 1546|\n",
      "|     30000.00| 1506|\n",
      "|     50000.00| 1356|\n",
      "|      1200.00| 1236|\n",
      "|       300.00| 1189|\n",
      "|       600.00| 1093|\n",
      "|      4500.00|  999|\n",
      "|       800.00|  962|\n",
      "+-------------+-----+\n",
      "only showing top 25 rows\n",
      "\n"
     ]
    }
   ],
   "source": [
    "df4.where(df4['state'] == '1').groupBy(\"usd_goal_real\").count().sort(\"count\", ascending=False).show(25)"
   ]
  },
  {
   "cell_type": "markdown",
   "metadata": {},
   "source": [
    "Basicamente podemos ver que la cantidad de dinero que se fija como meta no es muy relevante para que el proyecto sea exitoso o no, ya que varia mucho entre cantidades."
   ]
  },
  {
   "cell_type": "markdown",
   "metadata": {},
   "source": [
    "# Feature Engineering"
   ]
  },
  {
   "cell_type": "markdown",
   "metadata": {},
   "source": [
    "Antes de iniciar con el Feature Engineering convertiremos las fechas en double(unix), ya que para hacer el vector de features es necesario contar con datos numericos."
   ]
  },
  {
   "cell_type": "code",
   "execution_count": 167,
   "metadata": {},
   "outputs": [
    {
     "data": {
      "text/plain": [
       "[Row(id=1000002330, main_category='4', goal='1000', pledged='0', state='0', backers='0', country='7', usd_pledged=Decimal('0.00'), usd_pledged_real=Decimal('0.00'), usd_goal_real=Decimal('1533.95'), dateLaunched=datetime.date(2015, 8, 11), dateDeadLine=datetime.date(2015, 10, 9), quarter=3, unix_dateLaunched=1439272800, unix_dateDeadLine=1444370400)]"
      ]
     },
     "execution_count": 167,
     "metadata": {},
     "output_type": "execute_result"
    }
   ],
   "source": [
    "df5 = df4.withColumn(\"unix_dateLaunched\" , unix_timestamp(\"dateLaunched\") )\n",
    "df6 = df5.withColumn(\"unix_dateDeadLine\" , unix_timestamp(\"dateDeadLine\") )\n",
    "df6.head(1)"
   ]
  },
  {
   "cell_type": "markdown",
   "metadata": {},
   "source": [
    "Ahora hacemos un cast de las columnas para que estas se puedan convertir en un vector ensamblador, vamos a omitir las siguientes columnas:\n",
    "\n",
    "- ***id*** = not a feature\n",
    "- ***dateLaunched*** = unix_dateLaunched\n",
    "- ***dateDeadLine*** = unix_dateDeadLine\n",
    "- ***goal*** = usd_goal_real\n",
    "- ***pledged*** = usd_pledged_real\n",
    "- ***usd_pledged*** = usd_pledged_real\n",
    "\n",
    "esto debido a que son equivalentes a otras que ya estan en la data "
   ]
  },
  {
   "cell_type": "code",
   "execution_count": 168,
   "metadata": {},
   "outputs": [],
   "source": [
    "df_num = df6.select(\n",
    "    df6.main_category.cast(\"int\"),\n",
    "    df6.backers.cast(\"float\"),\n",
    "    df6.country.cast(\"int\"),\n",
    "    df6.usd_pledged_real.cast(\"float\"),\n",
    "    df6.usd_goal_real.cast(\"float\"),\n",
    "    df6.unix_dateLaunched.cast(\"long\"),\n",
    "    df6.unix_dateDeadLine.cast(\"long\"),\n",
    "    df6.quarter.cast(\"int\"),\n",
    "    df6.state.cast(\"int\").alias(\"label\"))"
   ]
  },
  {
   "cell_type": "markdown",
   "metadata": {},
   "source": [
    "Imprimimos el resultado y el esquema del mismo"
   ]
  },
  {
   "cell_type": "code",
   "execution_count": 169,
   "metadata": {},
   "outputs": [
    {
     "name": "stdout",
     "output_type": "stream",
     "text": [
      "root\n",
      " |-- main_category: integer (nullable = true)\n",
      " |-- backers: float (nullable = true)\n",
      " |-- country: integer (nullable = true)\n",
      " |-- usd_pledged_real: float (nullable = true)\n",
      " |-- usd_goal_real: float (nullable = true)\n",
      " |-- unix_dateLaunched: long (nullable = true)\n",
      " |-- unix_dateDeadLine: long (nullable = true)\n",
      " |-- quarter: integer (nullable = true)\n",
      " |-- label: integer (nullable = true)\n",
      "\n"
     ]
    },
    {
     "data": {
      "text/plain": [
       "[Row(main_category=4, backers=0.0, country=7, usd_pledged_real=0.0, usd_goal_real=1533.949951171875, unix_dateLaunched=1439272800, unix_dateDeadLine=1444370400, quarter=3, label=0)]"
      ]
     },
     "execution_count": 169,
     "metadata": {},
     "output_type": "execute_result"
    }
   ],
   "source": [
    "df_num.printSchema()\n",
    "df_num.head(1)"
   ]
  },
  {
   "cell_type": "markdown",
   "metadata": {},
   "source": [
    "Creamos el vector ensamblador"
   ]
  },
  {
   "cell_type": "code",
   "execution_count": 170,
   "metadata": {},
   "outputs": [],
   "source": [
    "# Vector Ensamblador\n",
    "df_assembler = VectorAssembler(inputCols=['main_category',\n",
    "                                          'backers',\n",
    "                                          'country',\n",
    "                                          'usd_pledged_real',\n",
    "                                          'usd_goal_real',\n",
    "                                          'unix_dateLaunched',\n",
    "                                          'unix_dateDeadLine',\n",
    "                                          'quarter'], outputCol=\"features\")\n",
    "df_num = df_assembler.transform(df_num)"
   ]
  },
  {
   "cell_type": "markdown",
   "metadata": {},
   "source": [
    "Visualizamos el vector ensamblado compuesto por features y label"
   ]
  },
  {
   "cell_type": "code",
   "execution_count": 171,
   "metadata": {},
   "outputs": [
    {
     "name": "stdout",
     "output_type": "stream",
     "text": [
      "root\n",
      " |-- main_category: integer (nullable = true)\n",
      " |-- backers: float (nullable = true)\n",
      " |-- country: integer (nullable = true)\n",
      " |-- usd_pledged_real: float (nullable = true)\n",
      " |-- usd_goal_real: float (nullable = true)\n",
      " |-- unix_dateLaunched: long (nullable = true)\n",
      " |-- unix_dateDeadLine: long (nullable = true)\n",
      " |-- quarter: integer (nullable = true)\n",
      " |-- label: integer (nullable = true)\n",
      " |-- features: vector (nullable = true)\n",
      "\n"
     ]
    },
    {
     "data": {
      "text/plain": [
       "[Row(main_category=4, backers=0.0, country=7, usd_pledged_real=0.0, usd_goal_real=1533.949951171875, unix_dateLaunched=1439272800, unix_dateDeadLine=1444370400, quarter=3, label=0, features=DenseVector([4.0, 0.0, 7.0, 0.0, 1533.95, 1439272800.0, 1444370400.0, 3.0]))]"
      ]
     },
     "execution_count": 171,
     "metadata": {},
     "output_type": "execute_result"
    }
   ],
   "source": [
    "# visulizacion de vector ensamblado compuesto por features y label\n",
    "df_num.printSchema()\n",
    "df_num.head(1)"
   ]
  },
  {
   "cell_type": "markdown",
   "metadata": {},
   "source": [
    "Partimos a continuación el set de datos en 75% training y 25% testing:"
   ]
  },
  {
   "cell_type": "code",
   "execution_count": 172,
   "metadata": {},
   "outputs": [
    {
     "name": "stdout",
     "output_type": "stream",
     "text": [
      "Size of train Dataset : 279199\n",
      "Size of test Dataset : 92867\n"
     ]
    }
   ],
   "source": [
    "# Particion del data set\n",
    "model_df=df_num.select([\"features\",\"label\"])\n",
    "train,test = model_df.randomSplit([0.75,0.25])\n",
    "\n",
    "\n",
    "print(f\"Size of train Dataset : {train.count()}\" )\n",
    "print(f\"Size of test Dataset : {test.count()}\" )"
   ]
  },
  {
   "cell_type": "markdown",
   "metadata": {},
   "source": [
    "Creamos el Regresor Lineal:"
   ]
  },
  {
   "cell_type": "code",
   "execution_count": 173,
   "metadata": {},
   "outputs": [],
   "source": [
    "lr = LinearRegression()"
   ]
  },
  {
   "cell_type": "markdown",
   "metadata": {},
   "source": [
    "Entrenamos el modelo de regresión lineal:"
   ]
  },
  {
   "cell_type": "code",
   "execution_count": 174,
   "metadata": {},
   "outputs": [],
   "source": [
    "# Fit the model, le llamamos lr_model\n",
    "lr_model = lr.fit(train)"
   ]
  },
  {
   "cell_type": "markdown",
   "metadata": {},
   "source": [
    "Creamos el dataframe de prediciones (predictions_df) a partir del modelo de entrenamiento y el conjunto de datos test:"
   ]
  },
  {
   "cell_type": "code",
   "execution_count": 175,
   "metadata": {},
   "outputs": [],
   "source": [
    "predictions_df = lr_model.transform(test)"
   ]
  },
  {
   "cell_type": "markdown",
   "metadata": {},
   "source": [
    "\n",
    "Visualizamos el contenido de predictions_df:"
   ]
  },
  {
   "cell_type": "code",
   "execution_count": 176,
   "metadata": {},
   "outputs": [
    {
     "name": "stdout",
     "output_type": "stream",
     "text": [
      "+-------------------+-----+--------------------+\n",
      "|         prediction|label|            features|\n",
      "+-------------------+-----+--------------------+\n",
      "|0.31994407403419567|    0|[1.0,0.0,1.0,0.0,...|\n",
      "|0.32429831992600133|    0|[1.0,0.0,1.0,0.0,...|\n",
      "|0.27814733054187335|    0|[1.0,0.0,1.0,0.0,...|\n",
      "| 0.3011440874346858|    0|[1.0,0.0,1.0,0.0,...|\n",
      "| 0.3167592488834744|    0|[1.0,0.0,1.0,0.0,...|\n",
      "+-------------------+-----+--------------------+\n",
      "only showing top 5 rows\n",
      "\n"
     ]
    }
   ],
   "source": [
    "# visulizacion de predictions_df\n",
    "predictions_df.select(\"prediction\",\"label\",\"features\").show(5)"
   ]
  },
  {
   "cell_type": "markdown",
   "metadata": {},
   "source": [
    "Ahora, evaluamos el modelo de Regresión Lineal, con los datos de TEST:"
   ]
  },
  {
   "cell_type": "code",
   "execution_count": 177,
   "metadata": {},
   "outputs": [],
   "source": [
    "# evaluacion del modelo, le llamaremos model_predictions\n",
    "from pyspark.ml.evaluation import RegressionEvaluator\n",
    "lr_evaluator = RegressionEvaluator(predictionCol=\"prediction\", \\\n",
    "                 labelCol=\"label\",metricName=\"r2\")"
   ]
  },
  {
   "cell_type": "markdown",
   "metadata": {},
   "source": [
    "Imprimimos el valor de R2:"
   ]
  },
  {
   "cell_type": "code",
   "execution_count": 178,
   "metadata": {},
   "outputs": [
    {
     "name": "stdout",
     "output_type": "stream",
     "text": [
      "R Squared (R2) on test data = 0.0309135\n"
     ]
    }
   ],
   "source": [
    "# valor de R2\n",
    "print(\"R Squared (R2) on test data = %g\" % lr_evaluator.evaluate(predictions_df))"
   ]
  },
  {
   "cell_type": "markdown",
   "metadata": {},
   "source": [
    "Imprimimos el valor del meanSquaredError:"
   ]
  },
  {
   "cell_type": "code",
   "execution_count": 179,
   "metadata": {},
   "outputs": [
    {
     "name": "stdout",
     "output_type": "stream",
     "text": [
      "Root Mean Squared Error (RMSE) on test data = 0.471917\n"
     ]
    }
   ],
   "source": [
    "# valor del meanSquaredError\n",
    "test_result = lr_model.evaluate(test)\n",
    "print(\"Root Mean Squared Error (RMSE) on test data = %g\" % test_result.rootMeanSquaredError)"
   ]
  },
  {
   "cell_type": "markdown",
   "metadata": {},
   "source": [
    "# Regresión con Árboles de Decisión"
   ]
  },
  {
   "cell_type": "markdown",
   "metadata": {},
   "source": [
    "Importamos la librería DecisionTreeRegressor:"
   ]
  },
  {
   "cell_type": "code",
   "execution_count": 180,
   "metadata": {},
   "outputs": [],
   "source": [
    "# import lib\n",
    "from pyspark.ml.regression import DecisionTreeRegressor"
   ]
  },
  {
   "cell_type": "markdown",
   "metadata": {},
   "source": [
    "Creamos el Regresor DT, le llamaremos dec_tree:"
   ]
  },
  {
   "cell_type": "code",
   "execution_count": 181,
   "metadata": {},
   "outputs": [],
   "source": [
    "# dec_tree\n",
    "dt = DecisionTreeRegressor(featuresCol ='features', labelCol = 'label')"
   ]
  },
  {
   "cell_type": "markdown",
   "metadata": {},
   "source": [
    "Entrenamos el modelo:"
   ]
  },
  {
   "cell_type": "code",
   "execution_count": 182,
   "metadata": {},
   "outputs": [],
   "source": [
    "# Train model, le llamaremos dec_tree_model\n",
    "dec_tree_model = dt.fit(train)"
   ]
  },
  {
   "cell_type": "markdown",
   "metadata": {},
   "source": [
    "Desplegamos las featureImportances:"
   ]
  },
  {
   "cell_type": "code",
   "execution_count": 183,
   "metadata": {},
   "outputs": [
    {
     "data": {
      "text/plain": [
       "SparseVector(8, {1: 0.5001, 3: 0.2598, 4: 0.2401})"
      ]
     },
     "execution_count": 183,
     "metadata": {},
     "output_type": "execute_result"
    }
   ],
   "source": [
    "dec_tree_model.featureImportances"
   ]
  },
  {
   "cell_type": "markdown",
   "metadata": {},
   "source": [
    "Evaluamos el modelo con los datos de entrenamiento:"
   ]
  },
  {
   "cell_type": "code",
   "execution_count": 184,
   "metadata": {},
   "outputs": [],
   "source": [
    "# Make predictions, le llamaremos model_predictions \n",
    "model_predictions = dec_tree_model.transform(test)"
   ]
  },
  {
   "cell_type": "code",
   "execution_count": 185,
   "metadata": {},
   "outputs": [
    {
     "name": "stdout",
     "output_type": "stream",
     "text": [
      "+--------------------+-----+------------------+\n",
      "|            features|label|        prediction|\n",
      "+--------------------+-----+------------------+\n",
      "|[1.0,0.0,1.0,0.0,...|    0|0.1319734578520521|\n",
      "|[1.0,0.0,1.0,0.0,...|    0|0.1319734578520521|\n",
      "|[1.0,0.0,1.0,0.0,...|    0|               0.0|\n",
      "|[1.0,0.0,1.0,0.0,...|    0|               0.0|\n",
      "|[1.0,0.0,1.0,0.0,...|    0|               0.0|\n",
      "|[1.0,0.0,1.0,0.0,...|    0|               0.0|\n",
      "|[1.0,0.0,1.0,0.0,...|    0|               0.0|\n",
      "|[1.0,0.0,1.0,0.0,...|    0|               0.0|\n",
      "|[1.0,0.0,1.0,0.0,...|    0|               0.0|\n",
      "|[1.0,0.0,1.0,0.0,...|    0|               0.0|\n",
      "|[1.0,0.0,1.0,0.0,...|    0|               0.0|\n",
      "|[1.0,0.0,1.0,0.0,...|    0|               0.0|\n",
      "|[1.0,0.0,1.0,0.0,...|    0|               0.0|\n",
      "|[1.0,0.0,1.0,0.0,...|    0|               0.0|\n",
      "|[1.0,0.0,2.0,0.0,...|    0|0.1319734578520521|\n",
      "|[1.0,0.0,2.0,0.0,...|    0|               0.0|\n",
      "|[1.0,0.0,2.0,0.0,...|    0|               0.0|\n",
      "|[1.0,0.0,2.0,0.0,...|    0|               0.0|\n",
      "|[1.0,0.0,2.0,0.0,...|    0|               0.0|\n",
      "|[1.0,0.0,2.0,0.0,...|    0|               0.0|\n",
      "+--------------------+-----+------------------+\n",
      "only showing top 20 rows\n",
      "\n"
     ]
    }
   ],
   "source": [
    "# visualizamos\n",
    "\n",
    "model_predictions.show()"
   ]
  },
  {
   "cell_type": "markdown",
   "metadata": {},
   "source": [
    "Usando RegressionEvaluator calculamos e imprimimos el valor de las metricas R2 y RMSE:"
   ]
  },
  {
   "cell_type": "code",
   "execution_count": 186,
   "metadata": {},
   "outputs": [
    {
     "name": "stdout",
     "output_type": "stream",
     "text": [
      "The r-square value of DecisionTreeRegressor is 0.8990387532522395\n",
      "The rmse value of DecisionTreeRegressor is 0.15232182732278568\n"
     ]
    }
   ],
   "source": [
    "# R2 value of the model on test data \n",
    "dt_evaluator = RegressionEvaluator(metricName='r2')\n",
    "dt_r2 = dt_evaluator.evaluate(model_predictions)\n",
    "print(f'The r-square value of DecisionTreeRegressor is {dt_r2}')\n",
    "\n",
    "# RMSE value of the model on test data\n",
    "dt_evaluator2 = RegressionEvaluator(metricName='rmse')\n",
    "dt_rmse = dt_evaluator2.evaluate(model_predictions)\n",
    "print(f'The rmse value of DecisionTreeRegressor is {dt_rmse}')"
   ]
  },
  {
   "cell_type": "markdown",
   "metadata": {},
   "source": [
    "# Gradient-Boosted Tree Regressor"
   ]
  },
  {
   "cell_type": "markdown",
   "metadata": {},
   "source": [
    "Importamos a GBTRegressor"
   ]
  },
  {
   "cell_type": "code",
   "execution_count": 187,
   "metadata": {},
   "outputs": [],
   "source": [
    "# import\n",
    "from pyspark.ml.regression import GBTRegressor"
   ]
  },
  {
   "cell_type": "markdown",
   "metadata": {},
   "source": [
    "Creamos el Regresor GBTR, le llamaremos gbt:"
   ]
  },
  {
   "cell_type": "code",
   "execution_count": 188,
   "metadata": {},
   "outputs": [],
   "source": [
    "# regresor\n",
    "gbt = GBTRegressor(featuresCol = 'features', labelCol = 'label', maxIter=10)"
   ]
  },
  {
   "cell_type": "markdown",
   "metadata": {},
   "source": [
    "Entrenamos el modelo:"
   ]
  },
  {
   "cell_type": "code",
   "execution_count": 189,
   "metadata": {},
   "outputs": [],
   "source": [
    "# Train model, le llamaremos gbt_model\n",
    "gbt_model = gbt.fit(train)"
   ]
  },
  {
   "cell_type": "markdown",
   "metadata": {},
   "source": [
    "Desplegamos las featureImportances:"
   ]
  },
  {
   "cell_type": "code",
   "execution_count": 190,
   "metadata": {},
   "outputs": [
    {
     "data": {
      "text/plain": [
       "SparseVector(8, {0: 0.0008, 1: 0.3753, 2: 0.0004, 3: 0.34, 4: 0.2826, 5: 0.0004, 6: 0.0004, 7: 0.0001})"
      ]
     },
     "execution_count": 190,
     "metadata": {},
     "output_type": "execute_result"
    }
   ],
   "source": [
    "#Importances\n",
    "gbt_model.featureImportances"
   ]
  },
  {
   "cell_type": "markdown",
   "metadata": {},
   "source": [
    "Evaluamos el modelo con los datos de entrenamiento, le llamaremos model_predictions:"
   ]
  },
  {
   "cell_type": "code",
   "execution_count": 191,
   "metadata": {},
   "outputs": [],
   "source": [
    "# Model\n",
    "model_predictions = gbt_model.transform(test)"
   ]
  },
  {
   "cell_type": "markdown",
   "metadata": {},
   "source": [
    "Desplegamos los valores del model_predictions"
   ]
  },
  {
   "cell_type": "code",
   "execution_count": 192,
   "metadata": {},
   "outputs": [
    {
     "name": "stdout",
     "output_type": "stream",
     "text": [
      "+--------------------+-----+--------------------+\n",
      "|          prediction|label|            features|\n",
      "+--------------------+-----+--------------------+\n",
      "|  0.0653057400078152|    0|[1.0,0.0,1.0,0.0,...|\n",
      "| 0.06530574000781526|    0|[1.0,0.0,1.0,0.0,...|\n",
      "|0.003432054010509...|    0|[1.0,0.0,1.0,0.0,...|\n",
      "|-0.00100969365399...|    0|[1.0,0.0,1.0,0.0,...|\n",
      "|-7.48298619196343E-4|    0|[1.0,0.0,1.0,0.0,...|\n",
      "+--------------------+-----+--------------------+\n",
      "only showing top 5 rows\n",
      "\n"
     ]
    }
   ],
   "source": [
    "# show \n",
    "model_predictions.select('prediction', 'label', 'features').show(5)"
   ]
  },
  {
   "cell_type": "markdown",
   "metadata": {},
   "source": [
    "Usando RegressionEvaluator calculamos e imprimimos el valor de las metricas R2 y RMSE:"
   ]
  },
  {
   "cell_type": "code",
   "execution_count": 193,
   "metadata": {},
   "outputs": [
    {
     "name": "stdout",
     "output_type": "stream",
     "text": [
      "R2 on test data = 0.933419\n",
      "Root Mean Squared Error (RMSE) on test data = 0.123697\n"
     ]
    }
   ],
   "source": [
    "#Select (prediction, true label) and compute test error\n",
    "gbt_evaluator = RegressionEvaluator(\n",
    "    labelCol=\"label\", predictionCol=\"prediction\", metricName=\"rmse\")\n",
    "\n",
    "gbt_evaluatorR2 = RegressionEvaluator(\n",
    "    labelCol=\"label\", predictionCol=\"prediction\", metricName=\"r2\")\n",
    "# R2 value of the model on test data \n",
    "r2 = gbt_evaluatorR2.evaluate(model_predictions)\n",
    "print(\"R2 on test data = %g\" % r2)\n",
    "\n",
    "\n",
    "\n",
    "# RMSE value of the model on test data \n",
    "rmse = gbt_evaluator.evaluate(model_predictions)\n",
    "print(\"Root Mean Squared Error (RMSE) on test data = %g\" % rmse)"
   ]
  },
  {
   "cell_type": "markdown",
   "metadata": {},
   "source": [
    "## Conclusiones"
   ]
  },
  {
   "cell_type": "markdown",
   "metadata": {},
   "source": [
    "|Algorithm|R2|RMSE|\n",
    "|-----|:-------:|-----------\n",
    "|Regresion Lineal|   0.03|0.47\n",
    "|Decision Tree|   0.89|0.15\n",
    "|Gradient-Boosted Tree|   0.93|0.12"
   ]
  },
  {
   "cell_type": "markdown",
   "metadata": {},
   "source": [
    "La regresión lineal es aplicada a problemas como:\n",
    "\n",
    "- Venta de un producto; precios, rendimiento y parámetros de riesgo\n",
    "- Generar información sobre el comportamiento del consumidor, la rentabilidad y otros factores comerciales.\n",
    "- Evaluación de tendencias; hacer estimaciones y pronósticos\n",
    "- Determinar la efectividad del marketing, los precios y las promociones en las ventas de un producto.\n",
    "- Realización de estudios de mercado y análisis de resultados de encuestas a clientes.\n",
    "\n",
    "Cuando sabemos que la relación entre la variable independiente y la dependiente tiene una relación lineal, este algoritmo es el mejor para usar porque es el menos complejo en comparación con otros algoritmos que también intentan encontrar la relación entre la variable independiente y la dependiente.\n",
    "\n",
    "Para este problema en concreto sobre tendencias de fracaso o exito de un proyecto el algoritmo con menor error es más apegado a una regresion lineal.\n",
    "\n",
    "Por otro lado Gradient Boosted Tree, construye árboles uno a la vez, donde cada nuevo árbol ayuda a corregir los errores cometidos por un árbol previamente entrenado.\n",
    "\n",
    "Cuando Gradient-Boosted Tree se realiza junto con la regresión lineal, no es más que otro modelo lineal sobre el modelo lineal existente. Esto puede entenderse intuitivamente como agregar algo a los coeficientes ya encontrados, y si la regresión lineal ya ha encontrado los mejores coeficientes, será inútil.\n",
    "\n",
    "Hay dos ventajas de Gradient Boosted Tree con regresión lineal, primero poder regularizar los valores de los coeficientes y ayudar en el caso de overfit. Segundo, cuando los datos tienen alguna forma compleja no lineal. Los métodos de refuerzo lo ayudan a evolucionar lentamente con los datos.\n",
    "\n",
    "Para este caso parece que la regresion lineal se ajusta bien, entonces cuando Gradient Boosted Tree se ajusta a los datos, luego el siguiente modelo se basa en los residuos del modelo anterior, pero los residuos de los modelos lineales no pueden ajustarse a otro modelo lineal y por eso al finalizar el algoritmo aumenta el error.\n",
    "\n",
    "\n",
    "Decision Tree y Gradient-Boosted Tree son más utilizado cuando no hay una relacion lineal entre las variables, esto debido al ajuste que realizan conforme van profundizando en el arbol, por lo que al tener tan buen resultado con linear regresion podemos asumir que el modelo tiene un mejor fit con regresion lineal, entonces basicamente no estamos usando los algoritmos mas adecuados al problema por lo que el error es un poco mayor, lo cual es mas notorio con el resultado del error cudratico.\n",
    "\n",
    "Sin embargo, los 3 algoritmos muestran un error RMSE es la raíz cuadrada de la varianza de los residuos. Indica el ajuste absoluto del modelo a los datos: qué tan cerca están los puntos de datos observados de los valores pronosticados del modelo. RMSE es una medida absoluta de ajuste, como la raíz cuadrada de una varianza, RMSE puede interpretarse como la desviación estándar de la varianza inexplicada, y tiene la propiedad útil de estar en las mismas unidades que la variable de respuesta. Los valores más bajos de RMSE indican un mejor ajuste. RMSE es una buena medida de la precisión con que el modelo predice la respuesta, y es el criterio más importante para el ajuste si el propósito principal del modelo es la predicción.\n"
   ]
  },
  {
   "cell_type": "code",
   "execution_count": null,
   "metadata": {},
   "outputs": [],
   "source": []
  }
 ],
 "metadata": {
  "kernelspec": {
   "display_name": "Python 3",
   "language": "python",
   "name": "python3"
  },
  "language_info": {
   "codemirror_mode": {
    "name": "ipython",
    "version": 3
   },
   "file_extension": ".py",
   "mimetype": "text/x-python",
   "name": "python",
   "nbconvert_exporter": "python",
   "pygments_lexer": "ipython3",
   "version": "3.7.3"
  }
 },
 "nbformat": 4,
 "nbformat_minor": 2
}
